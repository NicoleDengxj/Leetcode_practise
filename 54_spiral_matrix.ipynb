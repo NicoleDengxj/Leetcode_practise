{
 "cells": [
  {
   "cell_type": "markdown",
   "metadata": {},
   "source": []
  },
  {
   "cell_type": "code",
   "execution_count": 2,
   "metadata": {},
   "outputs": [],
   "source": [
    "from typing import List\n",
    "class Solution:\n",
    "    def spiralOrder(self,matrix:List[List[int]]) -> List[int]:\n",
    "        if not matrix or not matrix[0]: # empty matrix is return False\n",
    "            return []\n",
    "        \n",
    "        res = []\n",
    "        row = len(matrix)\n",
    "        col = len(matrix[0])\n",
    "\n",
    "        res = matrix[0]\n",
    "\n",
    "        if row > 1:\n",
    "            # from top to bottom\n",
    "            for i in range(1,row):\n",
    "                res.append(matrix[i][col-1])\n",
    "            if col > 1:\n",
    "                # from right to left the bottom line\n",
    "                for j in range(col-2,-1,-1):\n",
    "                    res.append(matrix[row-1][j])\n",
    "                # from bottom to top-1, the left line\n",
    "                for m in range(row-2,0,-1):\n",
    "                    res.append(matrix[m][0])\n",
    "        \n",
    "        New = []\n",
    "        for line in range(1,row-1):\n",
    "            tep = matrix[line][1:col-1]\n",
    "            New.append(tep)\n",
    "        return res + self.spiralOrder(New)\n",
    "\n"
   ]
  },
  {
   "cell_type": "code",
   "execution_count": 3,
   "metadata": {},
   "outputs": [
    {
     "name": "stdout",
     "output_type": "stream",
     "text": [
      "[1, 2, 3, 4, 8, 12, 16, 15, 14, 13, 9, 5, 6, 7, 11, 10]\n"
     ]
    }
   ],
   "source": [
    "matrix = [[1,2,3,4],[5,6,7,8],[9,10,11,12],[13,14,15,16]]\n",
    "solution = Solution()\n",
    "\n",
    "print(solution.spiralOrder(matrix))"
   ]
  }
 ],
 "metadata": {
  "kernelspec": {
   "display_name": "torch",
   "language": "python",
   "name": "python3"
  },
  "language_info": {
   "codemirror_mode": {
    "name": "ipython",
    "version": 3
   },
   "file_extension": ".py",
   "mimetype": "text/x-python",
   "name": "python",
   "nbconvert_exporter": "python",
   "pygments_lexer": "ipython3",
   "version": "3.11.5"
  }
 },
 "nbformat": 4,
 "nbformat_minor": 2
}
