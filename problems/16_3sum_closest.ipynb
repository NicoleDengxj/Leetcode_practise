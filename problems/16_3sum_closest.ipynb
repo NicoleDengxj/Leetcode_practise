{
 "cells": [
  {
   "cell_type": "code",
   "execution_count": null,
   "metadata": {},
   "outputs": [],
   "source": [
    "from typing import List\n",
    "class Solution:\n",
    "    def Sum_closest(self,nums:List[int],target:int)->List:\n",
    "        res = float(\"inf\")\n",
    "        nums.sort()\n",
    "        n = len(nums)\n",
    "\n",
    "        for i in range(n):\n",
    "            l = i+1\n",
    "            r = n-1\n",
    "            while l<r:\n",
    "                sum_ = nums[i] +nums[l] +nums[r]\n",
    "                if abs(sum_-target)< abs(res-target):\n",
    "                    res= sum_\n",
    "                if sum_ > target:\n",
    "                    r -= 1\n",
    "                elif sum_ < target:\n",
    "                    l +=1\n",
    "                else:\n",
    "                    return target\n",
    "        return res\n",
    "\n",
    "\n",
    "\n",
    "\n",
    "\n"
   ]
  }
 ],
 "metadata": {
  "kernelspec": {
   "display_name": "torch",
   "language": "python",
   "name": "python3"
  },
  "language_info": {
   "name": "python",
   "version": "3.11.5"
  }
 },
 "nbformat": 4,
 "nbformat_minor": 2
}
