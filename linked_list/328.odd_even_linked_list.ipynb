{
 "cells": [
  {
   "cell_type": "code",
   "execution_count": 7,
   "metadata": {},
   "outputs": [],
   "source": [
    "from typing import Optional\n",
    "class ListNode:\n",
    "    def __init__(self, val=0, next=None):\n",
    "        self.val = val\n",
    "        self.next = next\n",
    "\n",
    "def create_linked_list(values):\n",
    "    if not values:\n",
    "        return None\n",
    "    head = ListNode(values[0])\n",
    "    current = head\n",
    "    for value in values[1:]:\n",
    "        current.next = ListNode(value)\n",
    "        current = current.next\n",
    "    return head\n",
    "\n",
    "def print_linked_list(head):\n",
    "    current = head\n",
    "    while current:\n",
    "        print(current.val, end=\" -> \" if current.next else \"\\n\")\n",
    "        current = current.next\n",
    "\n",
    "class Solution:\n",
    "    def oddEvenList(self,head : Optional[ListNode]) ->Optional[ListNode]:\n",
    "        if not head or head.next == None:\n",
    "            return head\n",
    "        \n",
    "        odd = head\n",
    "        even = head.next\n",
    "        evenHead = even\n",
    "        \n",
    "        while even and even.next:\n",
    "            odd.next = even.next\n",
    "            odd = odd.next\n",
    "            even.next = odd.next\n",
    "            even = even.next\n",
    "\n",
    "        odd.next = evenHead\n",
    "        return head\n",
    "    "
   ]
  },
  {
   "cell_type": "code",
   "execution_count": 11,
   "metadata": {},
   "outputs": [],
   "source": [
    "head = create_linked_list([1, 2, 3, 4, 5])\n",
    "solution = Solution()\n",
    "new_head = solution.oddEvenList(head)"
   ]
  },
  {
   "cell_type": "code",
   "execution_count": 12,
   "metadata": {},
   "outputs": [
    {
     "name": "stdout",
     "output_type": "stream",
     "text": [
      "1 -> 3 -> 5 -> 2 -> 4\n",
      "1 -> 3 -> 5 -> 2 -> 4\n"
     ]
    }
   ],
   "source": [
    "print_linked_list(head)\n",
    "print_linked_list(new_head)"
   ]
  },
  {
   "cell_type": "code",
   "execution_count": 18,
   "metadata": {},
   "outputs": [
    {
     "name": "stdout",
     "output_type": "stream",
     "text": [
      "1 -> 2 -> 3 -> 4 -> 5\n",
      "2 -> 3 -> 4 -> 5\n",
      "1 -> 2 -> 3 -> 4 -> 5\n",
      "2 -> 3 -> 4 -> 5\n"
     ]
    }
   ],
   "source": [
    "head = create_linked_list([1, 2, 3, 4, 5])\n",
    "\n",
    "odd = head\n",
    "even = head.next\n",
    "evenHead = even\n",
    "print_linked_list(head)\n",
    "print_linked_list(even)\n",
    "print_linked_list(odd)\n",
    "print_linked_list(evenHead)"
   ]
  },
  {
   "cell_type": "code",
   "execution_count": 19,
   "metadata": {},
   "outputs": [
    {
     "name": "stdout",
     "output_type": "stream",
     "text": [
      "1 -> 3 -> 4 -> 5\n",
      "3 -> 4 -> 5\n",
      "2 -> 4 -> 5\n",
      "4 -> 5\n",
      "3 -> 4 -> 5\n",
      "3 -> 5\n",
      "5\n",
      "4\n",
      "5\n"
     ]
    }
   ],
   "source": [
    "while even and even.next:\n",
    "    odd.next = even.next\n",
    "    print_linked_list(odd)\n",
    "    odd = odd.next\n",
    "    print_linked_list(odd)\n",
    "    even.next = odd.next\n",
    "    print_linked_list(even)\n",
    "    even = even.next\n",
    "    print_linked_list(even)\n",
    "    print_linked_list(odd)\n",
    "    "
   ]
  },
  {
   "cell_type": "code",
   "execution_count": null,
   "metadata": {},
   "outputs": [],
   "source": [
    "\n",
    "    \n",
    "\n",
    "\n",
    "    odd.next = evenHead\n",
    "    return head\n",
    "    "
   ]
  }
 ],
 "metadata": {
  "kernelspec": {
   "display_name": "torch",
   "language": "python",
   "name": "python3"
  },
  "language_info": {
   "codemirror_mode": {
    "name": "ipython",
    "version": 3
   },
   "file_extension": ".py",
   "mimetype": "text/x-python",
   "name": "python",
   "nbconvert_exporter": "python",
   "pygments_lexer": "ipython3",
   "version": "3.11.5"
  }
 },
 "nbformat": 4,
 "nbformat_minor": 2
}
